{
  "nbformat": 4,
  "nbformat_minor": 0,
  "metadata": {
    "colab": {
      "provenance": []
    },
    "kernelspec": {
      "name": "python3",
      "display_name": "Python 3"
    },
    "language_info": {
      "name": "python"
    }
  },
  "cells": [
    {
      "cell_type": "code",
      "execution_count": null,
      "metadata": {
        "id": "S3O0y2B4zLay"
      },
      "outputs": [],
      "source": [
        "# Tratamiento de datos\n",
        "# ==============================================================================\n",
        "import numpy as np\n",
        "import pandas as pd\n",
        "\n",
        "# Gráficos\n",
        "# ==============================================================================\n",
        "import matplotlib.pyplot as plt\n",
        "import seaborn as sns\n",
        "%matplotlib inline\n",
        "plt.style.use('fivethirtyeight')\n",
        "\n",
        "# Modelado\n",
        "# ==============================================================================\n",
        "from sklearn.datasets import make_blobs\n",
        "from sklearn.neural_network import MLPClassifier\n",
        "from sklearn.model_selection import RandomizedSearchCV\n",
        "from sklearn.model_selection import GridSearchCV\n",
        "from sklearn.model_selection import KFold\n",
        "import multiprocessing\n",
        "\n",
        "# Configuración warnings\n",
        "# ==============================================================================\n",
        "import warnings\n",
        "warnings.filterwarnings('ignore')"
      ]
    },
    {
      "cell_type": "code",
      "source": [
        "# Datos simulados\n",
        "# ==============================================================================\n",
        "X, y = make_blobs(\n",
        "        n_samples    = 500,\n",
        "        n_features   = 2,\n",
        "        centers      = 3,\n",
        "        cluster_std  = 1.2,\n",
        "        shuffle      = True,\n",
        "        random_state = 0\n",
        "       )\n",
        "\n",
        "fig, ax = plt.subplots(1, 1, figsize=(5, 5))\n",
        "for i in np.unique(y):\n",
        "    ax.scatter(\n",
        "        x = X[y == i, 0],\n",
        "        y = X[y == i, 1],\n",
        "        c = plt.rcParams['axes.prop_cycle'].by_key()['color'][i],\n",
        "        marker    = 'o',\n",
        "        edgecolor = 'black',\n",
        "        label= f\"Grupo {i}\"\n",
        "    )\n",
        "\n",
        "ax.set_title('Datos simulados')\n",
        "ax.legend();"
      ],
      "metadata": {
        "id": "-bcZ2ZTozNam"
      },
      "execution_count": null,
      "outputs": []
    },
    {
      "cell_type": "code",
      "source": [
        "# Modelos\n",
        "# ==============================================================================\n",
        "modelo_1 = MLPClassifier(\n",
        "                hidden_layer_sizes=(5),\n",
        "                learning_rate_init=0.01,\n",
        "                solver = 'lbfgs',\n",
        "                max_iter = 1000,\n",
        "                random_state = 123\n",
        "            )\n",
        "\n",
        "modelo_2 = MLPClassifier(\n",
        "                hidden_layer_sizes=(10),\n",
        "                learning_rate_init=0.01,\n",
        "                solver = 'lbfgs',\n",
        "                max_iter = 1000,\n",
        "                random_state = 123\n",
        "            )\n",
        "\n",
        "modelo_3 = MLPClassifier(\n",
        "                hidden_layer_sizes=(20, 20),\n",
        "                learning_rate_init=0.01,\n",
        "                solver = 'lbfgs',\n",
        "                max_iter = 5000,\n",
        "                random_state = 123\n",
        "            )\n",
        "\n",
        "modelo_4 = MLPClassifier(\n",
        "                hidden_layer_sizes=(50, 50, 50),\n",
        "                learning_rate_init=0.01,\n",
        "                solver = 'lbfgs',\n",
        "                max_iter = 5000,\n",
        "                random_state = 123\n",
        "            )\n",
        "\n",
        "modelo_1.fit(X=X, y=y)\n",
        "modelo_2.fit(X=X, y=y)\n",
        "modelo_3.fit(X=X, y=y)\n",
        "modelo_4.fit(X=X, y=y)"
      ],
      "metadata": {
        "id": "OM-v0BMIzPEO"
      },
      "execution_count": null,
      "outputs": []
    },
    {
      "cell_type": "code",
      "source": [
        "# Gráfico de predicciones\n",
        "# ==============================================================================\n",
        "fig, axs = plt.subplots(2, 2, figsize=(12,8))\n",
        "axs = axs.flatten()\n",
        "grid_x1 = np.linspace(start=min(X[:, 0]), stop=max(X[:, 0]), num=100)\n",
        "grid_x2 = np.linspace(start=min(X[:, 1]), stop=max(X[:, 1]), num=100)\n",
        "xx, yy = np.meshgrid(grid_x1, grid_x2)\n",
        "X_grid = np.column_stack([xx.flatten(), yy.flatten()])\n",
        "\n",
        "for i, modelo in enumerate([modelo_1, modelo_2, modelo_3, modelo_4]):\n",
        "\n",
        "    predicciones = modelo.predict(X_grid)\n",
        "\n",
        "    for j in np.unique(predicciones):\n",
        "        axs[i].scatter(\n",
        "            x = X_grid[predicciones == j, 0],\n",
        "            y = X_grid[predicciones == j, 1],\n",
        "            c = plt.rcParams['axes.prop_cycle'].by_key()['color'][j],\n",
        "            #marker = 'o',\n",
        "            alpha = 0.3,\n",
        "            label= f\"Grupo {j}\"\n",
        "        )\n",
        "\n",
        "    for j in np.unique(y):\n",
        "        axs[i].scatter(\n",
        "            x = X[y == j, 0],\n",
        "            y = X[y == j, 1],\n",
        "            c = plt.rcParams['axes.prop_cycle'].by_key()['color'][j],\n",
        "            marker    = 'o',\n",
        "            edgecolor = 'black'\n",
        "        )\n",
        "\n",
        "    axs[i].set_title(f\"Capas ocultas: {modelo.hidden_layer_sizes}\")\n",
        "    axs[i].axis('off')\n",
        "axs[0].legend();"
      ],
      "metadata": {
        "id": "aLx4asPuzRIs"
      },
      "execution_count": null,
      "outputs": []
    }
  ]
}