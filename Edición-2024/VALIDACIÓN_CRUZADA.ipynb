{
  "nbformat": 4,
  "nbformat_minor": 0,
  "metadata": {
    "colab": {
      "provenance": []
    },
    "kernelspec": {
      "name": "python3",
      "display_name": "Python 3"
    },
    "language_info": {
      "name": "python"
    }
  },
  "cells": [
    {
      "cell_type": "code",
      "execution_count": 1,
      "metadata": {
        "colab": {
          "base_uri": "https://localhost:8080/"
        },
        "id": "dU9wlDlbuIZ-",
        "outputId": "31103f66-6b35-4f1c-cca0-139a22e91b53"
      },
      "outputs": [
        {
          "output_type": "stream",
          "name": "stderr",
          "text": [
            "/usr/local/lib/python3.10/dist-packages/sklearn/linear_model/_logistic.py:458: ConvergenceWarning: lbfgs failed to converge (status=1):\n",
            "STOP: TOTAL NO. of ITERATIONS REACHED LIMIT.\n",
            "\n",
            "Increase the number of iterations (max_iter) or scale the data as shown in:\n",
            "    https://scikit-learn.org/stable/modules/preprocessing.html\n",
            "Please also refer to the documentation for alternative solver options:\n",
            "    https://scikit-learn.org/stable/modules/linear_model.html#logistic-regression\n",
            "  n_iter_i = _check_optimize_result(\n",
            "/usr/local/lib/python3.10/dist-packages/sklearn/linear_model/_logistic.py:458: ConvergenceWarning: lbfgs failed to converge (status=1):\n",
            "STOP: TOTAL NO. of ITERATIONS REACHED LIMIT.\n",
            "\n",
            "Increase the number of iterations (max_iter) or scale the data as shown in:\n",
            "    https://scikit-learn.org/stable/modules/preprocessing.html\n",
            "Please also refer to the documentation for alternative solver options:\n",
            "    https://scikit-learn.org/stable/modules/linear_model.html#logistic-regression\n",
            "  n_iter_i = _check_optimize_result(\n",
            "/usr/local/lib/python3.10/dist-packages/sklearn/linear_model/_logistic.py:458: ConvergenceWarning: lbfgs failed to converge (status=1):\n",
            "STOP: TOTAL NO. of ITERATIONS REACHED LIMIT.\n",
            "\n",
            "Increase the number of iterations (max_iter) or scale the data as shown in:\n",
            "    https://scikit-learn.org/stable/modules/preprocessing.html\n",
            "Please also refer to the documentation for alternative solver options:\n",
            "    https://scikit-learn.org/stable/modules/linear_model.html#logistic-regression\n",
            "  n_iter_i = _check_optimize_result(\n"
          ]
        },
        {
          "output_type": "stream",
          "name": "stdout",
          "text": [
            "Metrica del modelo 0.9666666666666667\n",
            "Metricas cross_validation [0.95833333 0.95833333 1.         1.         0.875     ]\n",
            "Media de cross_validation 0.9583333333333334\n",
            "Metrica en Test 1.0\n"
          ]
        }
      ],
      "source": [
        "from sklearn import datasets, metrics\n",
        "from sklearn.model_selection import train_test_split\n",
        "from sklearn.model_selection import cross_val_score\n",
        "from sklearn.model_selection import KFold\n",
        "from sklearn.linear_model import LogisticRegression\n",
        "\n",
        "iris = datasets.load_iris()\n",
        "\n",
        "X_train, X_test, y_train, y_test = train_test_split(iris.data, iris.target, test_size=0.2, random_state=0)\n",
        "\n",
        "kf = KFold(n_splits=5)\n",
        "\n",
        "clf = LogisticRegression()\n",
        "\n",
        "clf.fit(X_train, y_train)\n",
        "\n",
        "score = clf.score(X_train,y_train)\n",
        "\n",
        "print(\"Metrica del modelo\", score)\n",
        "\n",
        "scores = cross_val_score(clf, X_train, y_train, cv=kf, scoring=\"accuracy\")\n",
        "\n",
        "print(\"Metricas cross_validation\", scores)\n",
        "\n",
        "print(\"Media de cross_validation\", scores.mean())\n",
        "\n",
        "preds = clf.predict(X_test)\n",
        "\n",
        "score_pred = metrics.accuracy_score(y_test, preds)\n",
        "\n",
        "print(\"Metrica en Test\", score_pred)"
      ]
    },
    {
      "cell_type": "code",
      "source": [
        "from sklearn.model_selection import GridSearchCV, KFold\n",
        "from sklearn.ensemble import RandomForestClassifier\n",
        "from sklearn.datasets import load_iris\n",
        "from sklearn.model_selection import train_test_split\n",
        "\n",
        "# Cargar el conjunto de datos Iris\n",
        "iris = load_iris()\n",
        "X = iris.data\n",
        "y = iris.target\n",
        "\n",
        "# Dividir el conjunto de datos en entrenamiento y prueba\n",
        "X_train, X_test, y_train, y_test = train_test_split(X, y, test_size=0.2, random_state=42)\n",
        "\n",
        "# Definir el clasificador y los hiperparámetros a probar\n",
        "clf = RandomForestClassifier()\n",
        "param_grid = {'n_estimators': [50, 100, 200], 'max_depth': [None, 10, 20]}\n",
        "\n",
        "# Configurar la validación cruzada\n",
        "kf = KFold(n_splits=5, shuffle=True, random_state=42)\n",
        "\n",
        "# Configurar la búsqueda de hiperparámetros\n",
        "grid_search = GridSearchCV(clf, param_grid, cv=kf, scoring='accuracy', n_jobs=-1)\n",
        "\n",
        "# Realizar la búsqueda de hiperparámetros\n",
        "grid_search.fit(X_train, y_train)\n",
        "\n",
        "# Imprimir el mejor conjunto de hiperparámetros\n",
        "print(\"Mejor conjunto de hiperparámetros:\", grid_search.best_params_)\n",
        "\n",
        "# Evaluar el modelo final en el conjunto de prueba\n",
        "accuracy_test = grid_search.best_estimator_.score(X_test, y_test)\n",
        "print(\"Exactitud en el conjunto de prueba:\", accuracy_test)\n"
      ],
      "metadata": {
        "id": "hULa4htrvzgl"
      },
      "execution_count": null,
      "outputs": []
    }
  ]
}