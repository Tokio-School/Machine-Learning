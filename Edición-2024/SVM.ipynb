{
  "nbformat": 4,
  "nbformat_minor": 0,
  "metadata": {
    "colab": {
      "provenance": []
    },
    "kernelspec": {
      "name": "python3",
      "display_name": "Python 3"
    },
    "language_info": {
      "name": "python"
    }
  },
  "cells": [
    {
      "cell_type": "markdown",
      "source": [
        "LIBRERIAS"
      ],
      "metadata": {
        "id": "4OQbox2Ww6Pr"
      }
    },
    {
      "cell_type": "code",
      "execution_count": null,
      "metadata": {
        "id": "R2cqJyq4w4Kg"
      },
      "outputs": [],
      "source": [
        "# Tratamiento de datos\n",
        "# ==============================================================================\n",
        "import pandas as pd\n",
        "import numpy as np\n",
        "\n",
        "# Gráficos\n",
        "# ==============================================================================\n",
        "import matplotlib.pyplot as plt\n",
        "from matplotlib import style\n",
        "import seaborn as sns\n",
        "from mlxtend.plotting import plot_decision_regions\n",
        "\n",
        "# Preprocesado y modelado\n",
        "# ==============================================================================\n",
        "from sklearn.svm import SVC\n",
        "from sklearn.model_selection import train_test_split\n",
        "from sklearn.model_selection import GridSearchCV\n",
        "from sklearn.metrics import accuracy_score\n",
        "\n",
        "# Configuración matplotlib\n",
        "# ==============================================================================\n",
        "plt.rcParams['image.cmap'] = \"bwr\"\n",
        "#plt.rcParams['figure.dpi'] = \"100\"\n",
        "plt.rcParams['savefig.bbox'] = \"tight\"\n",
        "style.use('ggplot') or plt.style.use('ggplot')\n",
        "\n",
        "# Configuración warnings\n",
        "# ==============================================================================\n",
        "import warnings\n",
        "warnings.filterwarnings('ignore')"
      ]
    },
    {
      "cell_type": "markdown",
      "source": [
        "DATOS"
      ],
      "metadata": {
        "id": "MdkUQcqXxBEG"
      }
    },
    {
      "cell_type": "code",
      "source": [
        "# Datos\n",
        "# ==============================================================================\n",
        "url = 'https://raw.githubusercontent.com/JoaquinAmatRodrigo/' \\\n",
        "       + 'Estadistica-machine-learning-python/master/data/ESL.mixture.csv'\n",
        "datos = pd.read_csv(url)\n",
        "datos.head(3)"
      ],
      "metadata": {
        "id": "I7m0kdrHw_MQ"
      },
      "execution_count": null,
      "outputs": []
    },
    {
      "cell_type": "code",
      "source": [
        "fig, ax = plt.subplots(figsize=(6,4))\n",
        "ax.scatter(datos.X1, datos.X2, c=datos.y);\n",
        "ax.set_title(\"Datos ESL.mixture\");"
      ],
      "metadata": {
        "id": "MDnF5W5txER3"
      },
      "execution_count": null,
      "outputs": []
    },
    {
      "cell_type": "markdown",
      "source": [
        "SVM LINEAL"
      ],
      "metadata": {
        "id": "hoGE81FUxGzS"
      }
    },
    {
      "cell_type": "code",
      "source": [
        "# División de los datos en train y test\n",
        "# ==============================================================================\n",
        "X = datos.drop(columns = 'y')\n",
        "y = datos['y']\n",
        "\n",
        "X_train, X_test, y_train, y_test = train_test_split(\n",
        "                                        X,\n",
        "                                        y.values.reshape(-1,1),\n",
        "                                        train_size   = 0.8,\n",
        "                                        random_state = 1234,\n",
        "                                        shuffle      = True\n",
        "                                    )"
      ],
      "metadata": {
        "id": "og_H9tysxH5B"
      },
      "execution_count": null,
      "outputs": []
    },
    {
      "cell_type": "code",
      "source": [
        "# Creación del modelo SVM lineal\n",
        "# ==============================================================================\n",
        "modelo = SVC(C = 100, kernel = 'linear', random_state=123)\n",
        "modelo.fit(X_train, y_train)"
      ],
      "metadata": {
        "id": "VhEWRwc3xKHB"
      },
      "execution_count": null,
      "outputs": []
    },
    {
      "cell_type": "code",
      "source": [
        "# Representación gráfica de los límites de clasificación\n",
        "# ==============================================================================\n",
        "# Grid de valores\n",
        "x = np.linspace(np.min(X_train.X1), np.max(X_train.X1), 50)\n",
        "y = np.linspace(np.min(X_train.X2), np.max(X_train.X2), 50)\n",
        "Y, X = np.meshgrid(y, x)\n",
        "grid = np.vstack([X.ravel(), Y.ravel()]).T\n",
        "\n",
        "# Predicción valores grid\n",
        "pred_grid = modelo.predict(grid)\n",
        "\n",
        "fig, ax = plt.subplots(figsize=(6,4))\n",
        "ax.scatter(grid[:,0], grid[:,1], c=pred_grid, alpha = 0.2)\n",
        "ax.scatter(X_train.X1, X_train.X2, c=y_train, alpha = 1)\n",
        "\n",
        "# Vectores soporte\n",
        "ax.scatter(\n",
        "    modelo.support_vectors_[:, 0],\n",
        "    modelo.support_vectors_[:, 1],\n",
        "    s=200, linewidth=1,\n",
        "    facecolors='none', edgecolors='black'\n",
        ")\n",
        "\n",
        "# Hiperplano de separación\n",
        "ax.contour(\n",
        "    X,\n",
        "    Y,\n",
        "    modelo.decision_function(grid).reshape(X.shape),\n",
        "    colors = 'k',\n",
        "    levels = [-1, 0, 1],\n",
        "    alpha  = 0.5,\n",
        "    linestyles = ['--', '-', '--']\n",
        ")\n",
        "\n",
        "ax.set_title(\"Resultados clasificación SVM lineal\");\n"
      ],
      "metadata": {
        "id": "7b6qQJMxxMWP"
      },
      "execution_count": null,
      "outputs": []
    },
    {
      "cell_type": "code",
      "source": [
        "# Predicciones test\n",
        "# ==============================================================================\n",
        "predicciones = modelo.predict(X_test)\n",
        "predicciones"
      ],
      "metadata": {
        "id": "enhBPJAAxOTQ"
      },
      "execution_count": null,
      "outputs": []
    },
    {
      "cell_type": "code",
      "source": [
        "# Accuracy de test del modelo\n",
        "# ==============================================================================\n",
        "accuracy = accuracy_score(\n",
        "            y_true    = y_test,\n",
        "            y_pred    = predicciones,\n",
        "            normalize = True\n",
        "           )\n",
        "print(\"\")\n",
        "print(f\"El accuracy de test es: {100*accuracy}%\")"
      ],
      "metadata": {
        "id": "QHrjumeYxP71"
      },
      "execution_count": null,
      "outputs": []
    },
    {
      "cell_type": "markdown",
      "source": [
        "SVM RADIAL"
      ],
      "metadata": {
        "id": "C7EDt09HxSVr"
      }
    },
    {
      "cell_type": "code",
      "source": [
        "# Grid de hiperparámetros\n",
        "# ==============================================================================\n",
        "param_grid = {'C': np.logspace(-5, 7, 20)}\n",
        "\n",
        "# Búsqueda por validación cruzada\n",
        "# ==============================================================================\n",
        "grid = GridSearchCV(\n",
        "        estimator  = SVC(kernel= \"rbf\", gamma='scale'),\n",
        "        param_grid = param_grid,\n",
        "        scoring    = 'accuracy',\n",
        "        n_jobs     = -1,\n",
        "        cv         = 3,\n",
        "        verbose    = 0,\n",
        "        return_train_score = True\n",
        "      )\n",
        "\n",
        "# Se asigna el resultado a _ para que no se imprima por pantalla\n",
        "_ = grid.fit(X = X_train, y = y_train)\n",
        "\n",
        "# Resultados del grid\n",
        "# ==============================================================================\n",
        "resultados = pd.DataFrame(grid.cv_results_)\n",
        "resultados.filter(regex = '(param.*|mean_t|std_t)')\\\n",
        "    .drop(columns = 'params')\\\n",
        "    .sort_values('mean_test_score', ascending = False) \\\n",
        "    .head(5)"
      ],
      "metadata": {
        "id": "Y-wCtEn1xSnk"
      },
      "execution_count": null,
      "outputs": []
    },
    {
      "cell_type": "code",
      "source": [
        "# Mejores hiperparámetros por validación cruzada\n",
        "# ==============================================================================\n",
        "print(\"----------------------------------------\")\n",
        "print(\"Mejores hiperparámetros encontrados (cv)\")\n",
        "print(\"----------------------------------------\")\n",
        "print(grid.best_params_, \":\", grid.best_score_, grid.scoring)\n",
        "\n",
        "modelo = grid.best_estimator_"
      ],
      "metadata": {
        "id": "kamB8Qs8xbK9"
      },
      "execution_count": null,
      "outputs": []
    },
    {
      "cell_type": "code",
      "source": [
        "# Representación gráfica de los límites de clasificación\n",
        "# ==============================================================================\n",
        "# Grid de valores\n",
        "x = np.linspace(np.min(X_train.X1), np.max(X_train.X1), 50)\n",
        "y = np.linspace(np.min(X_train.X2), np.max(X_train.X2), 50)\n",
        "Y, X = np.meshgrid(y, x)\n",
        "grid = np.vstack([X.ravel(), Y.ravel()]).T\n",
        "\n",
        "# Predicción valores grid\n",
        "pred_grid = modelo.predict(grid)\n",
        "\n",
        "fig, ax = plt.subplots(figsize=(6,4))\n",
        "ax.scatter(grid[:,0], grid[:,1], c=pred_grid, alpha = 0.2)\n",
        "ax.scatter(X_train.X1, X_train.X2, c=y_train, alpha = 1)\n",
        "\n",
        "# Vectores soporte\n",
        "ax.scatter(\n",
        "    modelo.support_vectors_[:, 0],\n",
        "    modelo.support_vectors_[:, 1],\n",
        "    s=200, linewidth=1,\n",
        "    facecolors='none', edgecolors='black'\n",
        ")\n",
        "\n",
        "# Hiperplano de separación\n",
        "ax.contour(\n",
        "    X,\n",
        "    Y,\n",
        "    modelo.decision_function(grid).reshape(X.shape),\n",
        "    colors='k',\n",
        "    levels=[0],\n",
        "    alpha=0.5,\n",
        "    linestyles='-'\n",
        ")\n",
        "\n",
        "ax.set_title(\"Resultados clasificación SVM radial\");"
      ],
      "metadata": {
        "id": "rOJEsqzCxc69"
      },
      "execution_count": null,
      "outputs": []
    },
    {
      "cell_type": "code",
      "source": [
        "# Representación gráfica utilizando plot_decision_regions() de mlxtend\n",
        "# ==============================================================================\n",
        "fig, ax = plt.subplots(figsize=(6,4))\n",
        "plot_decision_regions(\n",
        "    X = X_train.to_numpy(),\n",
        "    y = y_train.flatten(),\n",
        "    clf = modelo,\n",
        "    ax = ax\n",
        ")\n",
        "ax.set_title(\"Resultados clasificación SVM radial\");"
      ],
      "metadata": {
        "id": "3fXLR9MSxeZH"
      },
      "execution_count": null,
      "outputs": []
    },
    {
      "cell_type": "code",
      "source": [
        "# Predicciones test\n",
        "# ==============================================================================\n",
        "predicciones = modelo.predict(X_test)"
      ],
      "metadata": {
        "id": "FITlUh9pxf8t"
      },
      "execution_count": null,
      "outputs": []
    },
    {
      "cell_type": "code",
      "source": [
        "# Accuracy de test del modelo\n",
        "# ==============================================================================\n",
        "accuracy = accuracy_score(\n",
        "            y_true    = y_test,\n",
        "            y_pred    = predicciones,\n",
        "            normalize = True\n",
        "           )\n",
        "print(\"\")\n",
        "print(f\"El accuracy de test es: {100*accuracy}%\")"
      ],
      "metadata": {
        "id": "x1SNbebmxhgg"
      },
      "execution_count": null,
      "outputs": []
    },
    {
      "cell_type": "code",
      "source": [
        "# Matriz de confusión de las predicciones de test\n",
        "# ==============================================================================\n",
        "confusion_matrix = pd.crosstab(\n",
        "    y_test.ravel(),\n",
        "    predicciones,\n",
        "    rownames=['Real'],\n",
        "    colnames=['Predicción']\n",
        ")\n",
        "confusion_matrix"
      ],
      "metadata": {
        "id": "y5yA4AVlxi-K"
      },
      "execution_count": null,
      "outputs": []
    },
    {
      "cell_type": "markdown",
      "source": [
        "ONE VS REST"
      ],
      "metadata": {
        "id": "G-SQKX2Fxqr9"
      }
    },
    {
      "cell_type": "code",
      "source": [
        "# logistic regression for multi-class classification using built-in one-vs-rest\n",
        "from sklearn.datasets import make_classification\n",
        "from sklearn.linear_model import LogisticRegression\n",
        "# define dataset\n",
        "X, y = make_classification(n_samples=1000, n_features=10, n_informative=5, n_redundant=5, n_classes=3, random_state=1)\n",
        "# define model\n",
        "model = LogisticRegression(multi_class='ovr')\n",
        "# fit model\n",
        "model.fit(X, y)\n",
        "# make predictions\n",
        "yhat = model.predict(X)"
      ],
      "metadata": {
        "id": "MjOzJ2_Exr8s"
      },
      "execution_count": null,
      "outputs": []
    },
    {
      "cell_type": "code",
      "source": [
        "from sklearn.datasets import make_classification\n",
        "from sklearn.linear_model import LogisticRegression\n",
        "from sklearn.multiclass import OneVsRestClassifier\n",
        "# define dataset\n",
        "X, y = make_classification(n_samples=1000, n_features=10, n_informative=5, n_redundant=5, n_classes=3, random_state=1)\n",
        "# define model\n",
        "model = LogisticRegression()\n",
        "# define the ovr strategy\n",
        "ovr = OneVsRestClassifier(model)\n",
        "# fit model\n",
        "ovr.fit(X, y)\n",
        "# make predictions\n",
        "yhat = ovr.predict(X)"
      ],
      "metadata": {
        "id": "zFlpcpT0xuao"
      },
      "execution_count": null,
      "outputs": []
    },
    {
      "cell_type": "markdown",
      "source": [
        "ONE VS ONE"
      ],
      "metadata": {
        "id": "-a5GT4W5xyvR"
      }
    },
    {
      "cell_type": "code",
      "source": [
        "# SVM for multi-class classification using built-in one-vs-one\n",
        "from sklearn.datasets import make_classification\n",
        "from sklearn.svm import SVC\n",
        "# define dataset\n",
        "X, y = make_classification(n_samples=1000, n_features=10, n_informative=5, n_redundant=5, n_classes=3, random_state=1)\n",
        "# define model\n",
        "model = SVC(decision_function_shape='ovo')\n",
        "# fit model\n",
        "model.fit(X, y)\n",
        "# make predictions\n",
        "yhat = model.predict(X)"
      ],
      "metadata": {
        "id": "QtLvDvUxxyRF"
      },
      "execution_count": null,
      "outputs": []
    },
    {
      "cell_type": "code",
      "source": [
        "# SVM for multi-class classification using one-vs-one\n",
        "from sklearn.datasets import make_classification\n",
        "from sklearn.svm import SVC\n",
        "from sklearn.multiclass import OneVsOneClassifier\n",
        "# define dataset\n",
        "X, y = make_classification(n_samples=1000, n_features=10, n_informative=5, n_redundant=5, n_classes=3, random_state=1)\n",
        "# define model\n",
        "model = SVC()\n",
        "# define ovo strategy\n",
        "ovo = OneVsOneClassifier(model)\n",
        "# fit model\n",
        "ovo.fit(X, y)\n",
        "# make predictions\n",
        "yhat = ovo.predict(X)"
      ],
      "metadata": {
        "id": "hY77bxDNx2jl"
      },
      "execution_count": null,
      "outputs": []
    }
  ]
}