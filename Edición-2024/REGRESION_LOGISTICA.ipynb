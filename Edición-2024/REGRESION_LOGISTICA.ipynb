{
  "nbformat": 4,
  "nbformat_minor": 0,
  "metadata": {
    "colab": {
      "provenance": []
    },
    "kernelspec": {
      "name": "python3",
      "display_name": "Python 3"
    },
    "language_info": {
      "name": "python"
    }
  },
  "cells": [
    {
      "cell_type": "markdown",
      "source": [
        "# Ejemplo regresión logística simple"
      ],
      "metadata": {
        "id": "udNHQqZyhFfx"
      }
    },
    {
      "cell_type": "code",
      "execution_count": null,
      "metadata": {
        "id": "HCkLVqFHhBp2"
      },
      "outputs": [],
      "source": [
        "# Tratamiento de datos\n",
        "# ==============================================================================\n",
        "import pandas as pd\n",
        "import numpy as np\n",
        "\n",
        "# Gráficos\n",
        "# ==============================================================================\n",
        "import matplotlib.pyplot as plt\n",
        "from matplotlib import style\n",
        "import seaborn as sns\n",
        "\n",
        "# Preprocesado y modelado\n",
        "# ==============================================================================\n",
        "from sklearn.linear_model import LogisticRegression\n",
        "from sklearn.model_selection import train_test_split\n",
        "from sklearn.metrics import accuracy_score\n",
        "import statsmodels.api as sm\n",
        "import statsmodels.formula.api as smf\n",
        "from statsmodels.stats.weightstats import ttest_ind\n",
        "\n",
        "# Configuración matplotlib\n",
        "# ==============================================================================\n",
        "plt.rcParams['image.cmap'] = \"bwr\"\n",
        "#plt.rcParams['figure.dpi'] = \"100\"\n",
        "plt.rcParams['savefig.bbox'] = \"tight\"\n",
        "style.use('ggplot') or plt.style.use('ggplot')\n",
        "\n",
        "# Configuración warnings\n",
        "# ==============================================================================\n",
        "import warnings\n",
        "warnings.filterwarnings('ignore')"
      ]
    },
    {
      "cell_type": "code",
      "source": [
        "# ==============================================================================\n",
        "matricula = np.array([0, 0, 0, 0, 0, 0, 0, 0, 0, 0, 0, 1, 0, 1, 0, 0, 0, 0, 1,\n",
        "                     0, 0, 1, 0, 0, 0, 0, 1, 0, 0, 0, 0, 0, 1, 0, 0, 1, 0, 1,\n",
        "                     0, 0, 0, 0, 0, 0, 1, 0, 0, 0, 0, 0, 1, 0, 0, 0, 1, 0, 0,\n",
        "                     0, 0, 0, 0, 1, 0, 0, 0, 0, 0, 0, 0, 0, 0, 0, 1, 0, 0, 0,\n",
        "                     1, 0, 0, 0, 0, 0, 0, 1, 0, 1, 0, 0, 0, 0, 1, 0, 1, 0, 0,\n",
        "                     1, 1, 1, 0, 1, 0, 0, 0, 0, 0, 0, 1, 0, 0, 1, 0, 0, 0, 1,\n",
        "                     1, 0, 0, 1, 0, 0, 0, 0, 0, 0, 1, 0, 0, 0, 0, 0, 0, 1, 1,\n",
        "                     0, 0, 1, 0, 0, 0, 0, 0, 0, 0, 0, 0, 0, 1, 0, 0, 0, 0, 0,\n",
        "                     0, 0, 1, 0, 0, 0, 0, 1, 1, 0, 1, 1, 0, 0, 0, 0, 1, 0, 0,\n",
        "                     0, 0, 0, 0, 0, 1, 0, 0, 1, 1, 0, 1, 1, 1, 1, 0, 0, 1, 0,\n",
        "                     0, 0, 0, 0, 1, 0, 0, 0, 1, 1])\n",
        "\n",
        "matematicas = np.array([\n",
        "                  41, 53, 54, 47, 57, 51, 42, 45, 54, 52, 51, 51, 71, 57, 50, 43,\n",
        "                  51, 60, 62, 57, 35, 75, 45, 57, 45, 46, 66, 57, 49, 49, 57, 64,\n",
        "                  63, 57, 50, 58, 75, 68, 44, 40, 41, 62, 57, 43, 48, 63, 39, 70,\n",
        "                  63, 59, 61, 38, 61, 49, 73, 44, 42, 39, 55, 52, 45, 61, 39, 41,\n",
        "                  50, 40, 60, 47, 59, 49, 46, 58, 71, 58, 46, 43, 54, 56, 46, 54,\n",
        "                  57, 54, 71, 48, 40, 64, 51, 39, 40, 61, 66, 49, 65, 52, 46, 61,\n",
        "                  72, 71, 40, 69, 64, 56, 49, 54, 53, 66, 67, 40, 46, 69, 40, 41,\n",
        "                  57, 58, 57, 37, 55, 62, 64, 40, 50, 46, 53, 52, 45, 56, 45, 54,\n",
        "                  56, 41, 54, 72, 56, 47, 49, 60, 54, 55, 33, 49, 43, 50, 52, 48,\n",
        "                  58, 43, 41, 43, 46, 44, 43, 61, 40, 49, 56, 61, 50, 51, 42, 67,\n",
        "                  53, 50, 51, 72, 48, 40, 53, 39, 63, 51, 45, 39, 42, 62, 44, 65,\n",
        "                  63, 54, 45, 60, 49, 48, 57, 55, 66, 64, 55, 42, 56, 53, 41, 42,\n",
        "                  53, 42, 60, 52, 38, 57, 58, 65])\n",
        "\n",
        "datos = pd.DataFrame({'matricula': matricula, 'matematicas': matematicas})"
      ],
      "metadata": {
        "id": "EipLKTvdhKiH"
      },
      "execution_count": null,
      "outputs": []
    },
    {
      "cell_type": "code",
      "source": [
        "# Número de obsercaciones por clase\n",
        "# ==============================================================================\n",
        "datos.matricula.value_counts().sort_index()"
      ],
      "metadata": {
        "id": "p2rawS90hMlp"
      },
      "execution_count": null,
      "outputs": []
    },
    {
      "cell_type": "code",
      "source": [
        "# Gráfico\n",
        "# ==============================================================================\n",
        "fig, ax = plt.subplots(figsize=(6, 3.84))\n",
        "\n",
        "sns.violinplot(\n",
        "        x     = 'matricula',\n",
        "        y     = 'matematicas',\n",
        "        data  = datos,\n",
        "        #color = \"white\",\n",
        "        ax    = ax\n",
        "    )\n",
        "\n",
        "ax.set_title('Distribución notas de matemáticas por clase');"
      ],
      "metadata": {
        "id": "RGsnOP0chOOg"
      },
      "execution_count": null,
      "outputs": []
    },
    {
      "cell_type": "code",
      "source": [
        "# División de los datos en train y test\n",
        "# ==============================================================================\n",
        "X = datos[['matematicas']]\n",
        "y = datos['matricula']\n",
        "\n",
        "X_train, X_test, y_train, y_test = train_test_split(\n",
        "                                        X.values.reshape(-1,1),\n",
        "                                        y.values.reshape(-1,1),\n",
        "                                        train_size   = 0.8,\n",
        "                                        random_state = 1234,\n",
        "                                        shuffle      = True\n",
        "                                    )\n",
        "\n",
        "# Creación del modelo\n",
        "# ==============================================================================\n",
        "# Para no incluir ningún tipo de regularización en el modelo se indica\n",
        "# penalty='none'\n",
        "modelo = LogisticRegression(penalty='none')\n",
        "modelo.fit(X = X_train.reshape(-1, 1), y = y_train)"
      ],
      "metadata": {
        "id": "anSI1xT4hQey"
      },
      "execution_count": null,
      "outputs": []
    },
    {
      "cell_type": "code",
      "source": [
        "# Información del modelo\n",
        "# ==============================================================================\n",
        "print(\"Intercept:\", modelo.intercept_)\n",
        "print(\"Coeficiente:\", list(zip(X.columns, modelo.coef_.flatten(), )))\n",
        "print(\"Accuracy de entrenamiento:\", modelo.score(X, y))"
      ],
      "metadata": {
        "id": "VtM7Q6pshSMf"
      },
      "execution_count": null,
      "outputs": []
    },
    {
      "cell_type": "code",
      "source": [
        "# Predicciones probabilísticas\n",
        "# ==============================================================================\n",
        "# Con .predict_proba() se obtiene, para cada observación, la probabilidad predicha\n",
        "# de pertenecer a cada una de las dos clases.\n",
        "predicciones = modelo.predict_proba(X = X_test)\n",
        "predicciones = pd.DataFrame(predicciones, columns = modelo.classes_)\n",
        "predicciones.head(3)"
      ],
      "metadata": {
        "id": "VzM3PdTBhUkV"
      },
      "execution_count": null,
      "outputs": []
    },
    {
      "cell_type": "code",
      "source": [
        "# Predicciones con clasificación final\n",
        "# ==============================================================================\n",
        "# Con .predict() se obtiene, para cada observación, la clasificación predicha por\n",
        "# el modelo. Esta clasificación se corresponde con la clase con mayor probabilidad.\n",
        "predicciones = modelo.predict(X = X_test)\n",
        "predicciones"
      ],
      "metadata": {
        "id": "dug8QD85hVuh"
      },
      "execution_count": null,
      "outputs": []
    },
    {
      "cell_type": "code",
      "source": [
        "# Accuracy de test del modelo\n",
        "# ==============================================================================\n",
        "X_test = sm.add_constant(X_test, prepend=True)\n",
        "predicciones = modelo.predict(exog = X_test)\n",
        "clasificacion = np.where(predicciones<0.5, 0, 1)\n",
        "accuracy = accuracy_score(\n",
        "            y_true    = y_test,\n",
        "            y_pred    = clasificacion,\n",
        "            normalize = True\n",
        "           )\n",
        "print(\"\")\n",
        "print(f\"El accuracy de test es: {100*accuracy}%\")"
      ],
      "metadata": {
        "id": "_8wVuAuHhbHl"
      },
      "execution_count": null,
      "outputs": []
    },
    {
      "cell_type": "markdown",
      "source": [
        "# Ejemplo regresión logística múltiple\n"
      ],
      "metadata": {
        "id": "591Op88thoFR"
      }
    },
    {
      "cell_type": "code",
      "source": [
        "# Tratamiento de datos\n",
        "# ==============================================================================\n",
        "import pandas as pd\n",
        "import numpy as np\n",
        "\n",
        "# Gráficos\n",
        "# ==============================================================================\n",
        "import matplotlib.pyplot as plt\n",
        "from matplotlib import style\n",
        "import seaborn as sns\n",
        "\n",
        "# Preprocesado y modelado\n",
        "# ==============================================================================\n",
        "from sklearn.linear_model import LogisticRegression\n",
        "from sklearn.model_selection import train_test_split\n",
        "from sklearn.metrics import accuracy_score\n",
        "from sklearn.metrics import plot_confusion_matrix\n",
        "import statsmodels.api as sm\n",
        "import statsmodels.formula.api as smf\n",
        "\n",
        "# Configuración matplotlib\n",
        "# ==============================================================================\n",
        "plt.rcParams['image.cmap'] = \"bwr\"\n",
        "#plt.rcParams['figure.dpi'] = \"100\"\n",
        "plt.rcParams['savefig.bbox'] = \"tight\"\n",
        "style.use('ggplot') or plt.style.use('ggplot')\n",
        "\n",
        "# Configuración warnings\n",
        "# ==============================================================================\n",
        "import warnings\n",
        "warnings.filterwarnings('ignore')"
      ],
      "metadata": {
        "id": "3Jrb87W_hn2_"
      },
      "execution_count": null,
      "outputs": []
    },
    {
      "cell_type": "code",
      "source": [
        "# Datos\n",
        "# ==============================================================================\n",
        "url = 'https://raw.githubusercontent.com/JoaquinAmatRodrigo/' \\\n",
        "       + 'Estadistica-machine-learning-python/master/data/spam.csv'\n",
        "datos = pd.read_csv(url)"
      ],
      "metadata": {
        "id": "1AY-u1A7hrxv"
      },
      "execution_count": null,
      "outputs": []
    },
    {
      "cell_type": "code",
      "source": [
        "datos['type'] = np.where(datos['type'] == 'spam', 1, 0)\n",
        "\n",
        "print(\"Número de observaciones por clase\")\n",
        "print(datos['type'].value_counts())\n",
        "print(\"\")\n",
        "\n",
        "print(\"Porcentaje de observaciones por clase\")\n",
        "print(100 * datos['type'].value_counts(normalize=True))"
      ],
      "metadata": {
        "id": "Xi2_YCszh5Nt"
      },
      "execution_count": null,
      "outputs": []
    },
    {
      "cell_type": "code",
      "source": [
        "# División de los datos en train y test\n",
        "# ==============================================================================\n",
        "X = datos.drop(columns = 'type')\n",
        "y = datos['type']\n",
        "\n",
        "X_train, X_test, y_train, y_test = train_test_split(\n",
        "                                        X,\n",
        "                                        y.values.reshape(-1,1),\n",
        "                                        train_size   = 0.8,\n",
        "                                        random_state = 1234,\n",
        "                                        shuffle      = True\n",
        "                                    )"
      ],
      "metadata": {
        "id": "_iPRxI1Sh7Yv"
      },
      "execution_count": null,
      "outputs": []
    },
    {
      "cell_type": "code",
      "source": [
        "# Creación del modelo utilizando matrices como en scikitlearn\n",
        "# ==============================================================================\n",
        "# A la matriz de predictores se le tiene que añadir una columna de 1s para el intercept del modelo\n",
        "X_train = sm.add_constant(X_train, prepend=True)\n",
        "modelo = sm.Logit(endog=y_train, exog=X_train,)\n",
        "modelo = modelo.fit()\n",
        "print(modelo.summary())"
      ],
      "metadata": {
        "id": "77PpoZSLh94D"
      },
      "execution_count": null,
      "outputs": []
    },
    {
      "cell_type": "code",
      "source": [
        "# Predicciones con intervalo de confianza\n",
        "# ==============================================================================\n",
        "predicciones = modelo.predict(exog = X_train)\n",
        "\n",
        "# Clasificación predicha\n",
        "# ==============================================================================\n",
        "clasificacion = np.where(predicciones<0.5, 0, 1)\n",
        "clasificacion"
      ],
      "metadata": {
        "id": "Ryy7sKHeh_eC"
      },
      "execution_count": null,
      "outputs": []
    },
    {
      "cell_type": "code",
      "source": [
        "# Accuracy de test del modelo\n",
        "# ==============================================================================\n",
        "X_test = sm.add_constant(X_test, prepend=True)\n",
        "predicciones = modelo.predict(exog = X_test)\n",
        "clasificacion = np.where(predicciones<0.5, 0, 1)\n",
        "accuracy = accuracy_score(\n",
        "            y_true    = y_test,\n",
        "            y_pred    = clasificacion,\n",
        "            normalize = True\n",
        "           )\n",
        "print(\"\")\n",
        "print(f\"El accuracy de test es: {100*accuracy}%\")"
      ],
      "metadata": {
        "id": "_bWqoT4JiBDz"
      },
      "execution_count": null,
      "outputs": []
    },
    {
      "cell_type": "code",
      "source": [
        "# Matriz de confusión de las predicciones de test\n",
        "# ==============================================================================\n",
        "confusion_matrix = pd.crosstab(\n",
        "    y_test.ravel(),\n",
        "    clasificacion,\n",
        "    rownames=['Real'],\n",
        "    colnames=['Predicción']\n",
        ")\n",
        "confusion_matrix"
      ],
      "metadata": {
        "id": "T5sBT8ejiC7r"
      },
      "execution_count": null,
      "outputs": []
    }
  ]
}