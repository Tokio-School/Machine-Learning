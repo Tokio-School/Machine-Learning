{
 "cells": [
  {
   "cell_type": "markdown",
   "id": "5ddb215d-badb-4bdb-8e93-b24b7a705315",
   "metadata": {},
   "source": [
    "# MLOps: Servir modelos\n",
    "M5U6 - Ejercicio 1\n",
    "\n",
    "Ejercicio a eliminar."
   ]
  }
 ],
 "metadata": {
  "environment": {
   "kernel": "python3",
   "name": "common-cpu.m103",
   "type": "gcloud",
   "uri": "gcr.io/deeplearning-platform-release/base-cpu:m103"
  },
  "kernelspec": {
   "display_name": "Python 3",
   "language": "python",
   "name": "python3"
  },
  "language_info": {
   "codemirror_mode": {
    "name": "ipython",
    "version": 3
   },
   "file_extension": ".py",
   "mimetype": "text/x-python",
   "name": "python",
   "nbconvert_exporter": "python",
   "pygments_lexer": "ipython3",
   "version": "3.7.12"
  }
 },
 "nbformat": 4,
 "nbformat_minor": 5
}
