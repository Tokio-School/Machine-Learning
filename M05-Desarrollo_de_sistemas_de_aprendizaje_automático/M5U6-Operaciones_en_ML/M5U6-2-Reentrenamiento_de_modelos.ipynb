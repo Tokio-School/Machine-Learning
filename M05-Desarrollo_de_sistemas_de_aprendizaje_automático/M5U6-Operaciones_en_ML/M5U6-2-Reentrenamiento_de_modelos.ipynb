{
 "cells": [
  {
   "cell_type": "markdown",
   "id": "3aeb0384-b56c-4ce4-9e38-61d3da76cf02",
   "metadata": {},
   "source": [
    "# MLOps: Reentrenamiento de modelos\n",
    "M5U6 - Ejercicio 2\n",
    "\n",
    "Ejercicio a eliminar."
   ]
  }
 ],
 "metadata": {
  "environment": {
   "kernel": "python3",
   "name": "common-cpu.m103",
   "type": "gcloud",
   "uri": "gcr.io/deeplearning-platform-release/base-cpu:m103"
  },
  "kernelspec": {
   "display_name": "Python 3",
   "language": "python",
   "name": "python3"
  },
  "language_info": {
   "codemirror_mode": {
    "name": "ipython",
    "version": 3
   },
   "file_extension": ".py",
   "mimetype": "text/x-python",
   "name": "python",
   "nbconvert_exporter": "python",
   "pygments_lexer": "ipython3",
   "version": "3.7.12"
  }
 },
 "nbformat": 4,
 "nbformat_minor": 5
}
