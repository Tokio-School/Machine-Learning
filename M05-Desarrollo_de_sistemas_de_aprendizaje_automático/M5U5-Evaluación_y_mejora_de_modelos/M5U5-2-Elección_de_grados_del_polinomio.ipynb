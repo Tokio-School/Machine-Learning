{
 "cells": [
  {
   "cell_type": "markdown",
   "id": "671f2138-334b-4dbe-8465-c110632bf188",
   "metadata": {},
   "source": [
    "# Evaluación y mejora de modelos: Elección de grados del polinomio\n",
    "M5U5 - Ejercicio 1\n",
    "\n",
    "## ¿Qué vamos a hacer?\n",
    "- Transformar las características para aplicar polinomios de varios grados\n",
    "- Identificar el grado de polinomio idóneo para cada característica\n",
    "- Identificar cuando sufrimos desviación o sobre-ajuste debido a utilizar un grado de polinomio incorrecto\n",
    "\n",
    "Recuerda seguir las instrucciones para las entregas de prácticas indicadas en [Instrucciones entregas](https://github.com/Tokio-School/Machine-Learning/blob/main/Instrucciones%20entregas.md).\n",
    "\n",
    "## Instrucciones\n",
    "En muchas ocasiones, varios efectos de variables predictoras en la naturaleza tienen una influencia sobre la variable objetivo que no es lineal, pero se puede modelar dicha linealidad transformando los datos originales. Algunos de estos efectos, y por tanto transformaciones, son de tipo polinómico, raíz cuadradas, logarítmicos, etc.\n",
    "\n",
    "P. ej., la iluminación solar, la temperatura, efectos temporales con ciclos diarios, etc., tienen un efecto polinómico sobre animales, plantas, etc.\n",
    "\n",
    "En este ejercicio vamos a ver cómo podemos transformar nuestros datos para modelar un sistema, entrenar un modelo, de tipo lineal sobre unos datos no lineales, pero que podemos convertir para que lo sean, y por tanto podamos resolver por modelos lineales como el de regresión lineal o regresión logística lineal."
   ]
  },
  {
   "cell_type": "code",
   "execution_count": null,
   "id": "9e3cdc3b-2a3d-4515-84dd-495299872973",
   "metadata": {},
   "outputs": [],
   "source": [
    "# TODO: Importa todas las librerías necesarias en esta celda"
   ]
  },
  {
   "cell_type": "markdown",
   "id": "3715da28-1a2d-47c5-8dd4-bdf3c11c97ce",
   "metadata": {},
   "source": [
    "## Características polinomiales\n",
    "\n",
    "Uno de los efectos más habituales son los polinómicos. Descubre más sobre los polinomios y sus grados: [Polinomio](https://es.wikipedia.org/wiki/Polinomio).\n",
    "\n",
    "P. ej., modelo lineal con un único predictor *X* modelizado por un polinomio de grado 3: $Y = \\theta_0 + \\theta_1 \\times X + \\theta_2 \\times X^2 + \\theta_3 \\times X^3 $\n",
    "\n",
    "En este caso, con un único predictor *X*, en lugar de tomar sólo ese predictor tomamos otras características a partir del mismo, transformándolo al elevarlo al cuadrado y al cubo. Tomamos una característica, y obtenemos 2 más a partir de la misma.\n",
    "\n",
    "Para identificar estos efectos en nuestros datasets, es importante familiarizarse con la forma gráfica característica de los más habituales.\n",
    "\n",
    "Representa gráficamente polinomios de múltiples grados, juega con sus parámetros y estudia sus formas características resultantes:"
   ]
  },
  {
   "cell_type": "code",
   "execution_count": null,
   "id": "a2dd037a-6079-44a3-9715-5a38bec8427e",
   "metadata": {},
   "outputs": [],
   "source": [
    "# TODO: Representa gráficamente multiples polinomios\n",
    "\n",
    "# Crea un ndarray con un espacio lineal de 100 puntos entre [0, 100] que utilizaremos como X, variable predictora, y eje horizontal de la gráfica\n",
    "x = [...]\n",
    "\n",
    "# Crea ndarrays con las transformaciones elevando dicha X a grados 2 a 6\n",
    "for grado in [...]:\n",
    "    termino = [...]    # Calcula el término correspondiente elevando x a dicho grado\n",
    "    # Concatena dicho término a x como una nueva columna, horizontalmente, utilizando np.concatenate()\n",
    "    [...]\n",
    "\n",
    "# Representa dichos polinomios como gráficas de puntos y líneas como series de diferentes colores\n",
    "# Añade una rejilla, título y leyendo para las series\n",
    "\n",
    "[...]"
   ]
  },
  {
   "cell_type": "markdown",
   "id": "a92bfe3d-e28c-4085-9a8a-82609e750707",
   "metadata": {},
   "source": [
    "## Creación del dataset\n",
    "\n",
    "Una vez explorados gráficamente los efectos polinomiales, vamos a construir un dataset sintético con efectos polinomiales de grado alto, que tendremos que resolver transformando nuestros datos y probando varios grados polinomiales.\n",
    "\n",
    "El proceso que vamos a seguir para generar el dataset, por tanto, es el siguiente:\n",
    "1. Generar un dataset con 7 características, compuesto por una *X* pseudo-aleatoria, $X^2, X^3, ..., X^6$\n",
    "1. Generar unos coeficientes/pesos $\\Theta$ pseudo-aleatorios\n",
    "1. Completar el dataset generando una *Y* a partir de algunas de las características de *X* y $\\Theta$, hasta un grado dado\n",
    "1. Añadir un parámetro de error o ruido blanco/gaussiano a *Y*\n",
    "\n",
    "Para obtener la *Y* no vamos a utilizar todas las $n + 1$ características de *X*, sino sólo hasta un grado dado, para así poder entrenar varios modelos utilizando más o menos características de *X* hasta que demos con el grado de polinomio óptimo, ni pasándonos ni quedándonos cortos.\n",
    "\n",
    "Una vez generado, como habitualmente, nuestro objetivo para la práctica será explorar cómo podemos transformar nuestros datos para modelizar un dataset originalmente no lineal, por modelos lineales, para obtener $\\Theta$ y poder generar nuevas predicciones con nuestro modelo.\n",
    "\n",
    "Generamos un dataset con más características de las utilizadas para calcular *Y* para así tener la flexibilidad de utilizar más o menos en el futuro.\n",
    "\n",
    "Básate en tu código de generación manual de datasets (no por métodos de Scikit-learn) de ejercicios anteriores:"
   ]
  },
  {
   "cell_type": "code",
   "execution_count": null,
   "id": "0c5e79f6-8974-460f-9a18-94da80a6a5a7",
   "metadata": {},
   "outputs": [],
   "source": [
    "# TODO: Crea un dataset con efectos polinomiales de hasta grado 6\n",
    "m = 100\n",
    "\n",
    "# Genera una X de m valores pseudo-aleatorios en el rango [0, 1)\n",
    "X_verd = [...]\n",
    "\n",
    "# Concatena 5 nuevas columnas/características a X con los términos de grado correspondiente ([2, 6])\n",
    "for grado in [...]:\n",
    "    termino = [...]    # Calcula el término correspondiente elevando X a dicho grado\n",
    "    # Concatena dicho término a X como una nueva columna, horizontalmente, utilizando np.concatenate()\n",
    "    [...]\n",
    "\n",
    "# Inserta una columna de 1. a la izquierda de X como término bias\n",
    "X_verd = [...]\n",
    "\n",
    "# ¿Cuál sería la n o nº de características/dimensiones de este dataset?\n",
    "n = [...]\n",
    "\n",
    "# Genera un ndarray de Theta verdadera pseudo-aleatoria [0, 1) 1D de tamaño (n + 1,)\n",
    "Theta_verd = [...]\n",
    "\n",
    "# Calcula la Y correspondiente a X y Theta verdadera con las primeras 4 características de X, osea, con un polinomio hasta grado 3 (b + X + X^2 + X^3)\n",
    "# Utiliza las 4 primeras columnas de X y Theta verdadera\n",
    "Y = [...]\n",
    "\n",
    "# Añade un término de error blanco/gaussiano como un porcentaje +/-e añadido a Y\n",
    "# Asegúrate de generar nºs pseudo-aleatorios de una distribución normal o gaussiana\n",
    "e = 0.15\n",
    "\n",
    "Y = Y + [...]\n",
    "\n",
    "# Comprueba los valores y dimensiones de X e Y\n",
    "[...]"
   ]
  },
  {
   "cell_type": "markdown",
   "id": "34f0ff8b-0c2c-4b20-b8e8-27f0ef434c7e",
   "metadata": {},
   "source": [
    "## Extracción de características\n",
    "\n",
    "Una vez generado el dataset base, vamos a generar un dataset de entrenamiento diferente. La razón para generar otro diferente es simular todos los pasos de la misma forma que haríamos en realidad, partiendo del mismo punto, de sólo disponer de un predictor o característica para *X* y de una *Y*, debiendo generar nuevas características transformadas ya que no sabríamos qué grado del polinomio sería el correcto para cada característica (aquí sólo consideramos un predictor base), ni siquiera si hay un efecto polinomial o no.\n",
    "\n",
    "Vamos a generar una *X* de forma iterativa, probando un grado de polinomio, comprobando y volviendo a probar un grado diferente, hasta que consigamos una transformación que al modelizarla el modelo obtengamos unos resultados satisfactorios.\n",
    "\n",
    "Para ello, parte de $X_{verd1}$ ($X_{verd0} = 1$) y genera un dataset *X* con un nº de características dado por el grado del polinomio a comprobar.\n",
    "\n",
    "A lo largo del ejercicio, volverás a la siguiente celda de código y podras reejecutarla para comprobar un grade de polinomio diferente.\n",
    "\n",
    "Para ello, utiliza los métodos de preprocesamiento de Scikit-learn:\n",
    "- [preprocessing.PolynomialFeatures](https://scikit-learn.org/stable/modules/generated/sklearn.preprocessing.PolynomialFeatures.html).\n",
    "- [Polynomial features](https://scikit-learn.org/stable/modules/preprocessing.html#polynomial-features).\n",
    "\n",
    "Genera una *X* a partir de $X_{verd1}$ jugando con transformaciones polinomiales de grado desde 2 hasta, en subsecuentes iteraciones, 5 o incluso 6.\n",
    "\n",
    "*NOTA:* Los efectos polinomiales pueden ser de grado arbitrariamente alto. Sin embargo, lo más habitual en la naturaleza es encontrar efectos hasta grado 4, más allá son excepcionalmente raros y, por ello, también considerados habitualmente demasiado extremos en modelos estadísticos o científicos."
   ]
  },
  {
   "cell_type": "code",
   "execution_count": null,
   "id": "bacf9904-7cd3-4915-8ed8-3cf26d3f23c8",
   "metadata": {},
   "outputs": [],
   "source": [
    "# TODO: Genera un dataset X a partir de X_verd[:, 1] por transformación polinomial con Scikit-learn\n",
    "# NOTA: Cuidado con el comportamiento de PolynomialFeatures(), que añade término bias y términos polinomiales para múltiples características\n",
    "grado = 2    # En subsecuentes iteraciones, modifica el nº de grado del polinomio\n",
    "\n",
    "X = [...]\n",
    "\n",
    "# Comprueba los valores y dimensiones de X e Y\n",
    "[...]"
   ]
  },
  {
   "cell_type": "markdown",
   "id": "dbc2c52e-3007-4661-af07-4b7cd9566095",
   "metadata": {},
   "source": [
    "### Preprocesamiento de datos\n",
    "\n",
    "Como habitualmente, preprocesa tu dataset antes de continuar reordenando aleatoriamente los datos, normalizándolos si es necesario y dividiéndolos en subsets de entrenamiento y test:"
   ]
  },
  {
   "cell_type": "code",
   "execution_count": null,
   "id": "979e5dd8-fca1-4d55-b670-39967819002c",
   "metadata": {},
   "outputs": [],
   "source": [
    "# TODO: Preprocesa datos reordenándolos, normalizándolos y dividiéndolos en subsets de entrenamiento y test"
   ]
  },
  {
   "cell_type": "markdown",
   "id": "ae80a4b3-3702-44be-b9ad-6900aa231b9d",
   "metadata": {},
   "source": [
    "## Entrenamiento del modelo\n",
    "\n",
    "Hemos comenzado con la hipótesis de que podemos transformar nuestros datos con un polinomio de grado 2 para que un modelo lineal obtenga resultados satisfactorios.\n",
    "\n",
    "Vamos a entrenar dicho modelo y evaluar sus resultados.\n",
    "\n",
    "Entrena un modelo de regresión lineal por validación cruzada con [linear_model.RidgeCV](https://scikit-learn.org/stable/modules/generated/sklearn.linear_model.RidgeCV.html) y evalúalo con su coeficiente de determinación $R^2$ del método `model.score()` sobre el subset de test:"
   ]
  },
  {
   "cell_type": "code",
   "execution_count": null,
   "id": "9f578aac-dee0-411d-aa8e-559b6f062d3f",
   "metadata": {},
   "outputs": [],
   "source": [
    "# TODO: Entrena la hipótesis del modelo por CV y evalúalo sobre el subset de test"
   ]
  },
  {
   "cell_type": "markdown",
   "id": "53a0f480-ef4d-4b6a-b02f-5e06e4b01770",
   "metadata": {},
   "source": [
    "### Evaluación de los residuos\n",
    "\n",
    "Habitualmente, la mejor forma para evaluar si estamos planteando la hipótesis de patrón de los datos correcta, en este caso un efecto polinómico de grado 2, es explorar los residuos del modelo.\n",
    "\n",
    "Calcula sus residuos sobre el subset de test y represéntalos gráficamente:\n",
    "\n",
    "*NOTA:* Recuerda la definición de residuos, $\\text{residuos} = (Y_{pred} - Y)$"
   ]
  },
  {
   "cell_type": "code",
   "execution_count": null,
   "id": "ebadef49-b752-475f-8092-f4b44dc4601d",
   "metadata": {},
   "outputs": [],
   "source": [
    "# TODO: Calcula y representa gráficamente los residuos del modelo frente al dataset original"
   ]
  },
  {
   "cell_type": "markdown",
   "id": "d4445b04-e42c-4925-88e6-90e81d391841",
   "metadata": {},
   "source": [
    "*¿Parecen aceptables? ¿Siguen algún patrón?*"
   ]
  },
  {
   "cell_type": "markdown",
   "id": "c5c92dc8-79ab-403c-96c4-f0384679af8f",
   "metadata": {},
   "source": [
    "## Iterar hasta encontrar la solución\n",
    "\n",
    "Hemos planteado la hipótesis de que el grado óptimo de transformación polinomial sería 2, pero no hemos obtenido resultados satisfactorios. Por lo tanto, debemos iterar, volver atrás, plantear una nueva hipótesis de un grado superior, reejecutar las celdas y comprobar los resultados.\n",
    "\n",
    "En la ciencia en general, ciencia de datos y ML, debemos siempre plantear múltiples hipótesis, comprobarlas y aceptarlas o descartarlas iterativamente. Para ello es fundamental documentar los experimentos que hemos ido realizando y sus resultados.\n",
    "\n",
    "Anota los resultados de tus experimentos en la siguiente celda:"
   ]
  },
  {
   "cell_type": "markdown",
   "id": "7848b060-b1d2-4ae8-a074-db20b963b56f",
   "metadata": {},
   "source": [
    "**Resultados:**\n",
    "1. Polinomio de grado 2: $R^2$ = ...\n",
    "1. Polinomio de grado 3: $R^2$ = ...\n",
    "1. Polinomio de grado 4: $R^2$ = ...\n",
    "1. Polinomio de grado 5: $R^2$ = ...\n",
    "1. Polinomio de grado 6: $R^2$ = ..."
   ]
  }
 ],
 "metadata": {
  "environment": {
   "kernel": "python3",
   "name": "common-cpu.m91",
   "type": "gcloud",
   "uri": "gcr.io/deeplearning-platform-release/base-cpu:m91"
  },
  "kernelspec": {
   "display_name": "Python 3",
   "language": "python",
   "name": "python3"
  },
  "language_info": {
   "codemirror_mode": {
    "name": "ipython",
    "version": 3
   },
   "file_extension": ".py",
   "mimetype": "text/x-python",
   "name": "python",
   "nbconvert_exporter": "python",
   "pygments_lexer": "ipython3",
   "version": "3.7.12"
  }
 },
 "nbformat": 4,
 "nbformat_minor": 5
}
