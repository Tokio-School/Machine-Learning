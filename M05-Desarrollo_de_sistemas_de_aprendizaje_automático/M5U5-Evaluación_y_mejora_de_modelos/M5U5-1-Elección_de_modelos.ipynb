{
 "cells": [
  {
   "cell_type": "markdown",
   "id": "52d0ed45-eb4e-4022-9017-11eb6a9e3c1d",
   "metadata": {},
   "source": [
    "# Evaluación y mejora de modelos: Elección de modelos\n",
    "M5U5 - Ejercicio 1\n",
    "\n",
    "Ejercicio a eliminar."
   ]
  }
 ],
 "metadata": {
  "environment": {
   "kernel": "python3",
   "name": "common-cpu.m103",
   "type": "gcloud",
   "uri": "gcr.io/deeplearning-platform-release/base-cpu:m103"
  },
  "kernelspec": {
   "display_name": "Python 3",
   "language": "python",
   "name": "python3"
  },
  "language_info": {
   "codemirror_mode": {
    "name": "ipython",
    "version": 3
   },
   "file_extension": ".py",
   "mimetype": "text/x-python",
   "name": "python",
   "nbconvert_exporter": "python",
   "pygments_lexer": "ipython3",
   "version": "3.7.12"
  }
 },
 "nbformat": 4,
 "nbformat_minor": 5
}
