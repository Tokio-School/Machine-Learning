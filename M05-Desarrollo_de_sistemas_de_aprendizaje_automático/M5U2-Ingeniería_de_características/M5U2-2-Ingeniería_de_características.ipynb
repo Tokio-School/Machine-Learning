{
 "cells": [
  {
   "cell_type": "markdown",
   "id": "776b8217-5c8c-412f-ad29-fc7794eab41a",
   "metadata": {},
   "source": [
    "# Ingeniería de características\n",
    "M5U2 - Ejercicio 2\n",
    "\n",
    "Unidad sin prácticas."
   ]
  }
 ],
 "metadata": {
  "environment": {
   "kernel": "python3",
   "name": "common-cpu.m103",
   "type": "gcloud",
   "uri": "gcr.io/deeplearning-platform-release/base-cpu:m103"
  },
  "kernelspec": {
   "display_name": "Python 3",
   "language": "python",
   "name": "python3"
  },
  "language_info": {
   "codemirror_mode": {
    "name": "ipython",
    "version": 3
   },
   "file_extension": ".py",
   "mimetype": "text/x-python",
   "name": "python",
   "nbconvert_exporter": "python",
   "pygments_lexer": "ipython3",
   "version": "3.7.12"
  }
 },
 "nbformat": 4,
 "nbformat_minor": 5
}
