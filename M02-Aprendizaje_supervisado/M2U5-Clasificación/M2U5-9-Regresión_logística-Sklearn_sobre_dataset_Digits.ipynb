{
 "cells": [
  {
   "cell_type": "markdown",
   "id": "da2bd14f-37ec-4dc8-ab9a-2f391efef395",
   "metadata": {},
   "source": [
    "# Regresión logística: Scikit-learn sobre dataset Digits por OCR\n",
    "\n",
    "## ¿Qué vamos a hacer?\n",
    "- Descargar el dataset de dígitos escritos a mano para clasificarlo por OCR (\"optical character recognition\").\n",
    "- Preprocesar el dataset usando métodos de Scikit-learn.\n",
    "- Entrenar un modelo de clasificación multiclase por CV con Scikit-learn.\n",
    "\n",
    "OCR es un conjunto de técnicas relacionadas con el machine-learning y el deep-learning o redes neuronales que trata de intentar reconocer caracteres escritos a mano de forma visual.\n",
    "\n",
    "Como el conjunto de caracteres es relativamente pequeño (10 clases), es un modelo que en ocasiones podemos resolver por clasificación logística o SVM de una forma sencilla.\n",
    "\n",
    "- Puedes encontrar las características del dataset aquí: [Optical recognition of handwritten digits dataset](https://scikit-learn.org/stable/datasets/toy_dataset.html#digits-dataset)\n",
    "- Puedes cargarlo con esta función: [sklearn.datasets.load_digits](https://scikit-learn.org/stable/modules/generated/sklearn.datasets.load_digits.html)\n",
    "- Puedes tener como referencia este notebook: [Recognizing hand-written digits](https://scikit-learn.org/stable/auto_examples/classification/plot_digits_classification.html)\n",
    "\n",
    "Repite los pasos del ejercicio anterior para entrenar un modelo de ML de OCR sobre este dataset con el método [LogisticRegression](https://scikit-learn.org/stable/modules/generated/sklearn.linear_model.LogisticRegression.html) de Scikit-learn:"
   ]
  },
  {
   "cell_type": "code",
   "execution_count": null,
   "id": "db3892d8-aa23-41b1-93e3-3cfa05bcd74f",
   "metadata": {},
   "outputs": [],
   "source": [
    "# TODO: Importa todos los módulos necesarios en esta celda"
   ]
  },
  {
   "cell_type": "markdown",
   "id": "ce3120e4-a247-4790-b7cc-f2554e174bb5",
   "metadata": {},
   "source": [
    "## Cargar el dataset Digits\n",
    "\n",
    "Antes de comenzar a trabajar con él, representa gráficamente algunos de los ejemplos y sus clases o números asociados:"
   ]
  },
  {
   "cell_type": "code",
   "execution_count": null,
   "id": "b8caed93-016d-485a-845c-3f70f640dfa6",
   "metadata": {},
   "outputs": [],
   "source": [
    "# TODO: Carga el dataset Digits como arrays X e Y y representa algunos de los ejemplos"
   ]
  },
  {
   "cell_type": "markdown",
   "id": "5c408285-2b9b-4c4a-80d6-93d2a49ac9c2",
   "metadata": {},
   "source": [
    "## Preprocesar los datos\n",
    "\n",
    "Preprocesa los datos con métodos de Scikit-learn, del mismo modo que hiciste en el ejercicio de Scikit-learn de regresión lineal:\n",
    "\n",
    "- Reordénalos aleatoriamente.\n",
    "- Normalízalos si es necesario.\n",
    "- Divídelos en subsets de entrenamiento y test.\n",
    "\n",
    "En esta ocasión, de nuevo, haremos la validación cruzada por K-fold, ya que el dataset es muy pequeño (150 ejemplos)."
   ]
  },
  {
   "cell_type": "code",
   "execution_count": null,
   "id": "cdbab10d-7840-49d2-99f3-95991210e9bb",
   "metadata": {},
   "outputs": [],
   "source": [
    "# TODO: Reordena los datos aleatoriamente, normalízalos sólo si es necesario y divídelos en subsets de entrenamiento y test"
   ]
  },
  {
   "cell_type": "markdown",
   "id": "6638cb72-22c0-485d-9235-c721e1a96f16",
   "metadata": {},
   "source": [
    "## Entrenar un modelo inicial\n",
    "- Entrena un modelo inicial sobre el subset de entrenamiento sin regularización.\n",
    "- Comprueba la idoneidad del modelo y reentrénalo si es necesario.\n",
    "\n",
    "La función de Scikit-learn que puedes utilizar es [sklearn.linear_model.LogisticRegression](https://scikit-learn.org/stable/modules/generated/sklearn.linear_model.LogisticRegression.html) con esquema OvR (\"one-vs-rest\", una clase contra el resto).\n",
    "\n",
    "Evalúalo sobre el subset de test con su método `model.score()`:"
   ]
  },
  {
   "cell_type": "code",
   "execution_count": null,
   "id": "b21f1f2c-dec4-4179-b19e-9ad11d0dd7df",
   "metadata": {},
   "outputs": [],
   "source": [
    "# TODO: Entrena tu modelo sobre el subset de entrenamiento sin regularizar y evalúalo sobre el de test"
   ]
  },
  {
   "cell_type": "markdown",
   "id": "33e2e070-50df-44b0-bf15-866eecae6341",
   "metadata": {},
   "source": [
    "## Hallar la regularización óptima por validación cruzada\n",
    "- Entrena un modelo por cada valor de regularización a considerar.\n",
    "- Entrénalos y evalúalos sobre un fold del subset de entrenamiento usando K-fold.\n",
    "- Escoge el modelo y su regularización óptimas.\n",
    "\n",
    "Recuerda que el método LogisticRegression usa el parámetro de regularización L2 *C*, la inversa de *lambda*:"
   ]
  },
  {
   "cell_type": "code",
   "execution_count": null,
   "id": "71b26477-8580-46a9-b5a5-b360ae4a597d",
   "metadata": {},
   "outputs": [],
   "source": [
    "# TODO: Entrena un modelo diferente por cada C sobre un fold de K-fold diferente"
   ]
  },
  {
   "cell_type": "markdown",
   "id": "e591f224-77f2-4628-bf6b-2308f02deebf",
   "metadata": {},
   "source": [
    "## Evaluar el modelo finalmente sobre el subset de test\n",
    "\n",
    "- Muestra los coeficientes e intercept del mejor modelo.\n",
    "- Evalúa el mejor modelo sobre el subset de test inicial.\n",
    "- Calcula los aciertos y fallos sobre el subset de test y represéntalos gráficamente.\n",
    "\n",
    "Como este dataset es muy visual, nunca mejor dicho, trata de mostrar también visualmente los ejemplos en los que el modelo ha fallado, y piensa si tú serías capaz de reconocer dicho número.\n",
    "\n",
    "*En ocasiones, hasta a un humano le costaría descifrarlo en función de la letra del que escribe 8-).*"
   ]
  },
  {
   "cell_type": "code",
   "execution_count": null,
   "id": "1b209256-d61a-43f9-a571-ff03ee256e64",
   "metadata": {},
   "outputs": [],
   "source": [
    "# TODO: Evalúa el mejor modelo sobre el subset de test inicial y representa sus fallos gráficamente"
   ]
  }
 ],
 "metadata": {
  "environment": {
   "kernel": "python3",
   "name": "common-cpu.m94",
   "type": "gcloud",
   "uri": "gcr.io/deeplearning-platform-release/base-cpu:m94"
  },
  "kernelspec": {
   "display_name": "Python 3",
   "language": "python",
   "name": "python3"
  },
  "language_info": {
   "codemirror_mode": {
    "name": "ipython",
    "version": 3
   },
   "file_extension": ".py",
   "mimetype": "text/x-python",
   "name": "python",
   "nbconvert_exporter": "python",
   "pygments_lexer": "ipython3",
   "version": "3.7.12"
  }
 },
 "nbformat": 4,
 "nbformat_minor": 5
}
